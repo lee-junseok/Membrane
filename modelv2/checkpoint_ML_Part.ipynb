{
 "cells": [
  {
   "cell_type": "code",
   "execution_count": 1,
   "metadata": {
    "colab": {},
    "colab_type": "code",
    "id": "nGtVStKtv6LT"
   },
   "outputs": [],
   "source": [
    "from utils import *\n",
    "from network import *"
   ]
  },
  {
   "cell_type": "code",
   "execution_count": 2,
   "metadata": {
    "colab": {
     "base_uri": "https://localhost:8080/",
     "height": 34
    },
    "colab_type": "code",
    "executionInfo": {
     "elapsed": 482,
     "status": "ok",
     "timestamp": 1544254414995,
     "user": {
      "displayName": "Dheeraj Singh",
      "photoUrl": "",
      "userId": "06164132303714013558"
     },
     "user_tz": 300
    },
    "id": "i6aZ0NykBT70",
    "outputId": "3db40605-7df9-4bc2-c846-a6cec2593d0a"
   },
   "outputs": [
    {
     "name": "stdout",
     "output_type": "stream",
     "text": [
      "cpu\n"
     ]
    }
   ],
   "source": [
    "device = torch.device(\"cuda:0\" if torch.cuda.is_available() else \"cpu\")\n",
    "print(device)"
   ]
  },
  {
   "cell_type": "code",
   "execution_count": 3,
   "metadata": {
    "colab": {
     "base_uri": "https://localhost:8080/",
     "height": 170
    },
    "colab_type": "code",
    "executionInfo": {
     "elapsed": 5539,
     "status": "ok",
     "timestamp": 1544254422386,
     "user": {
      "displayName": "Dheeraj Singh",
      "photoUrl": "",
      "userId": "06164132303714013558"
     },
     "user_tz": 300
    },
    "id": "1swM4U97IAeK",
    "outputId": "7ed0e7c0-35be-48bf-a03d-e27b2dad750d"
   },
   "outputs": [],
   "source": [
    "weights = load_pretrained_weights()"
   ]
  },
  {
   "cell_type": "code",
   "execution_count": 5,
   "metadata": {
    "colab": {
     "base_uri": "https://localhost:8080/",
     "height": 34
    },
    "colab_type": "code",
    "executionInfo": {
     "elapsed": 20838,
     "status": "ok",
     "timestamp": 1544254454833,
     "user": {
      "displayName": "Dheeraj Singh",
      "photoUrl": "",
      "userId": "06164132303714013558"
     },
     "user_tz": 300
    },
    "id": "lIKadKjFDTgx",
    "outputId": "37b92856-b186-4a15-e73b-da6ac8fc6203"
   },
   "outputs": [
    {
     "name": "stdout",
     "output_type": "stream",
     "text": [
      "training unique users 8\n",
      "training samples 960\n",
      "batches 30\n"
     ]
    }
   ],
   "source": [
    "voxceleb_dataset = VoxCelebDataset(PAIRS_FILE, test_users = ['f0001','m0001'])#PAIRS_FILE\n",
    "train_dataloader = DataLoader(voxceleb_dataset, batch_size=BATCH_SIZE, shuffle=True, \n",
    "                              num_workers=4)\n",
    "n_batches = int(len(voxceleb_dataset) / BATCH_SIZE)\n",
    "\n",
    "print(\"training unique users\", len(voxceleb_dataset.training_users))\n",
    "print(\"training samples\", len(voxceleb_dataset))\n",
    "print(\"batches\", int(len(voxceleb_dataset) / BATCH_SIZE))"
   ]
  },
  {
   "cell_type": "code",
   "execution_count": null,
   "metadata": {
    "colab": {},
    "colab_type": "code",
    "id": "I0wdqekMM7QX"
   },
   "outputs": [],
   "source": []
  },
  {
   "cell_type": "code",
   "execution_count": 6,
   "metadata": {
    "colab": {
     "base_uri": "https://localhost:8080/",
     "height": 329
    },
    "colab_type": "code",
    "executionInfo": {
     "elapsed": 635,
     "status": "ok",
     "timestamp": 1544211970472,
     "user": {
      "displayName": "Arnav Arnav",
      "photoUrl": "",
      "userId": "13167590773773544591"
     },
     "user_tz": 300
    },
    "id": "ey2aRNEkDVbY",
    "outputId": "41b5c2bf-ea7b-48c9-e24c-81d91e1508a3"
   },
   "outputs": [
    {
     "name": "stdout",
     "output_type": "stream",
     "text": [
      "checkpoint_20200604-003423_0.03221503645181656.pth.tar\n",
      "checkpoint_20200604-023718_0.06222428008913994.pth.tar\n",
      "checkpoint_20200604-013946_0.09211287647485733.pth.tar\n"
     ]
    }
   ],
   "source": [
    "checkpoints = os.listdir(get_rel_path('checkpoints/'))\n",
    "print(\"\\n\".join(checkpoints))"
   ]
  },
  {
   "cell_type": "code",
   "execution_count": 7,
   "metadata": {
    "colab": {},
    "colab_type": "code",
    "id": "tpVdvZ4DX604"
   },
   "outputs": [
    {
     "name": "stdout",
     "output_type": "stream",
     "text": [
      "Loading model in test mode True\n"
     ]
    }
   ],
   "source": [
    "test_model ,_, _ = load_saved_model(checkpoints[-1], test=True)"
   ]
  },
  {
   "cell_type": "markdown",
   "metadata": {
    "colab_type": "text",
    "id": "aw7pM5zYybK5"
   },
   "source": [
    "### for each user ID get mean embedding "
   ]
  },
  {
   "cell_type": "code",
   "execution_count": 8,
   "metadata": {
    "colab": {},
    "colab_type": "code",
    "id": "ZFiIpa-ZIo5d"
   },
   "outputs": [],
   "source": [
    "class VoxCelebTestDataset(Dataset):\n",
    "    \n",
    "    def __init__(self, pairs_fname,  test_users, n_users=5, clips_per_user=5):\n",
    "        pairs_file = pd.read_csv(get_rel_path(pairs_fname))        \n",
    "        user_subset = pairs_file[pairs_file.user1.isin(test_users)]\n",
    "        self.test_users =  user_subset.user1.unique()\n",
    "        self.spec = user_subset[user_subset.user1.isin(self.test_users)]      \n",
    "        self.spec = self.spec.drop_duplicates(subset = ['path1'])[['user1', 'path1']].values  \n",
    "\n",
    "    def __len__(self):\n",
    "        return len(self.spec)\n",
    "\n",
    "    def __getitem__(self, idx):\n",
    "        spec1_path = get_rel_path(self.spec[idx][1])\n",
    "        user_id = self.spec[idx][0]\n",
    "        spec1 = np.load(spec1_path)  \n",
    "        sample = {'spec': spec1, 'user_id': user_id}\n",
    "\n",
    "        return sample"
   ]
  },
  {
   "cell_type": "code",
   "execution_count": 9,
   "metadata": {},
   "outputs": [],
   "source": [
    "test_batch_size = 1\n",
    "training_users = voxceleb_dataset.training_users\n",
    "total_users = voxceleb_dataset.all_user_ids\n",
    "test_users = [i for i in total_users if i not in training_users]"
   ]
  },
  {
   "cell_type": "code",
   "execution_count": 10,
   "metadata": {},
   "outputs": [
    {
     "name": "stdout",
     "output_type": "stream",
     "text": [
      "120 training samples\n",
      "8\n"
     ]
    }
   ],
   "source": [
    "voxceleb_train_dataset = VoxCelebTestDataset(PAIRS_FILE, training_users, clips_per_user=NUM_NEW_CLIPS, n_users=20)\n",
    "\n",
    "train_dataloader = DataLoader(voxceleb_train_dataset, \n",
    "                              batch_size=test_batch_size, \n",
    "                              shuffle=False, \n",
    "                              num_workers=1)\n",
    "\n",
    "print(len(voxceleb_train_dataset), \"training samples\")\n",
    "print(len(voxceleb_train_dataset.test_users))"
   ]
  },
  {
   "cell_type": "code",
   "execution_count": 11,
   "metadata": {
    "colab": {},
    "colab_type": "code",
    "id": "F-83vP6uX7jF"
   },
   "outputs": [],
   "source": [
    "def get_user_model(dataset):\n",
    "    user_dict = OrderedDict()\n",
    "\n",
    "    for i, data in enumerate(dataset):\n",
    "        spec, user_id = data['spec'], data['user_id']\n",
    "        spec = torch.tensor(spec)\n",
    "        spec = spec.view(test_batch_size, 1, spec.shape[0], spec.shape[1])\n",
    "        spec = spec.to(device)\n",
    "        out = test_model.forward_single(spec)\n",
    "        out = out.view(out.shape[0], out.shape[1])\n",
    "\n",
    "        if user_dict.get(user_id, None) is not None:\n",
    "              user_dict[user_id].append(out.detach().cpu().numpy())\n",
    "    \n",
    "        else:\n",
    "              user_dict[user_id] = [out.detach().cpu().numpy()]\n",
    "\n",
    "    print(\"total :\", i+1)\n",
    "    mean_dict = {}\n",
    "    for user_id, emb_list  in user_dict.items():\n",
    "        emb_list = np.array(emb_list)\n",
    "        mean_emb = np.mean(emb_list, axis = 0)\n",
    "        mean_dict[user_id] = mean_emb\n",
    "\n",
    "    return user_dict, mean_dict"
   ]
  },
  {
   "cell_type": "markdown",
   "metadata": {
    "colab_type": "text",
    "id": "GAhr86qqU9Rh"
   },
   "source": [
    "###  T-sne"
   ]
  },
  {
   "cell_type": "code",
   "execution_count": 12,
   "metadata": {
    "colab": {
     "base_uri": "https://localhost:8080/",
     "height": 51
    },
    "colab_type": "code",
    "executionInfo": {
     "elapsed": 605,
     "status": "ok",
     "timestamp": 1544249436278,
     "user": {
      "displayName": "Dheeraj Singh",
      "photoUrl": "",
      "userId": "06164132303714013558"
     },
     "user_tz": 300
    },
    "id": "DyMcf1aPVPk2",
    "outputId": "aa2c112e-0cba-4bbc-f812-372c559a32ea"
   },
   "outputs": [],
   "source": [
    "def get_tsne_data(dataset):\n",
    "    data_list, user_list, mean_list = [], [], []\n",
    "    counts, user = 0, 0\n",
    "    user_dict, mean_dict = get_user_model(dataset)\n",
    "    \n",
    "    for user_id, li in user_dict.items():\n",
    "        user += 1\n",
    "        for arr in li:\n",
    "            data_list.append(arr)\n",
    "            user_list.append(user)\n",
    "            counts += 1\n",
    "        mean_list.append(mean_dict[user_id])\n",
    "\n",
    "    mean_data = np.vstack(mean_list)\n",
    "    data = np.vstack(data_list)\n",
    "    print(data.shape)\n",
    "    print(counts)\n",
    "    \n",
    "    return data, mean_data, user_list"
   ]
  },
  {
   "cell_type": "code",
   "execution_count": 13,
   "metadata": {},
   "outputs": [],
   "source": [
    "def plot_tsne(data, user_list):\n",
    "    tsne = TSNE(n_components=2, perplexity=25, init='pca', random_state=2444, method='exact')\n",
    "    tsne_embedding = tsne.fit_transform(data)\n",
    "    plt.figure(figsize=(10, 6))\n",
    "    plt.scatter(x=tsne_embedding[:,0], y=tsne_embedding[:, 1], c=user_list, cmap='jet', alpha=0.5)\n",
    "    plt.tight_layout()\n",
    "    plt.title('Learned Embeddings for Training Users')\n",
    "    fname = \"training_users_embeddings_\" + time.strftime(\"%Y%m%d-%H%M%S\")\n",
    "    plt.savefig(fname)\n",
    "    plt.show()\n",
    "    return tsne_embedding"
   ]
  },
  {
   "cell_type": "code",
   "execution_count": 14,
   "metadata": {},
   "outputs": [
    {
     "name": "stdout",
     "output_type": "stream",
     "text": [
      "total : 120\n",
      "(120, 1024)\n",
      "120\n"
     ]
    }
   ],
   "source": [
    "train_user_data, train_mean_data, train_user_list = get_tsne_data(voxceleb_train_dataset)"
   ]
  },
  {
   "cell_type": "code",
   "execution_count": 15,
   "metadata": {
    "colab": {
     "base_uri": "https://localhost:8080/",
     "height": 366
    },
    "colab_type": "code",
    "executionInfo": {
     "elapsed": 534,
     "status": "ok",
     "timestamp": 1544249441652,
     "user": {
      "displayName": "Dheeraj Singh",
      "photoUrl": "",
      "userId": "06164132303714013558"
     },
     "user_tz": 300
    },
    "id": "dNJJ_egIes4D",
    "outputId": "286c71f2-e416-4336-d610-72b22fd574de"
   },
   "outputs": [
    {
     "data": {
      "text/plain": [
       "<matplotlib.image.AxesImage at 0x10ae86190>"
      ]
     },
     "execution_count": 15,
     "metadata": {},
     "output_type": "execute_result"
    },
    {
     "data": {
      "image/png": "[encoded data removed]",
      "text/plain": [
       "<Figure size 432x288 with 1 Axes>"
      ]
     },
     "metadata": {},
     "output_type": "display_data"
    }
   ],
   "source": [
    "plt.imshow(train_mean_data, aspect='auto', cmap='jet')"
   ]
  },
  {
   "cell_type": "markdown",
   "metadata": {},
   "source": [
    "### Visualizing Training Users Embeddings"
   ]
  },
  {
   "cell_type": "code",
   "execution_count": 16,
   "metadata": {},
   "outputs": [
    {
     "data": {
      "image/png": "[encoded data removed]",
      "text/plain": [
       "<Figure size 720x432 with 1 Axes>"
      ]
     },
     "metadata": {},
     "output_type": "display_data"
    }
   ],
   "source": [
    "train_users_tsne_embeddings = plot_tsne(train_user_data, train_user_list)"
   ]
  },
  {
   "cell_type": "code",
   "execution_count": 17,
   "metadata": {},
   "outputs": [
    {
     "data": {
      "text/plain": [
       "<matplotlib.image.AxesImage at 0x10bccab50>"
      ]
     },
     "execution_count": 17,
     "metadata": {},
     "output_type": "execute_result"
    },
    {
     "data": {
      "image/png": "[encoded data removed]",
      "text/plain": [
       "<Figure size 432x288 with 1 Axes>"
      ]
     },
     "metadata": {},
     "output_type": "display_data"
    }
   ],
   "source": [
    "plt.imshow(train_users_tsne_embeddings, aspect='auto', cmap='viridis')"
   ]
  },
  {
   "cell_type": "markdown",
   "metadata": {},
   "source": [
    "### test phase"
   ]
  },
  {
   "cell_type": "code",
   "execution_count": 18,
   "metadata": {},
   "outputs": [
    {
     "name": "stdout",
     "output_type": "stream",
     "text": [
      "30 test samples\n",
      "['f0001' 'm0001']\n"
     ]
    }
   ],
   "source": [
    "voxceleb_test_dataset = VoxCelebTestDataset(PAIRS_FILE, test_users, clips_per_user=5, n_users=10)\n",
    "\n",
    "test_dataloader = DataLoader(voxceleb_test_dataset, \n",
    "                             batch_size=test_batch_size, \n",
    "                             shuffle=False, \n",
    "                             num_workers=1)\n",
    "\n",
    "print(len(voxceleb_test_dataset), \"test samples\")\n",
    "print(voxceleb_test_dataset.test_users)"
   ]
  },
  {
   "cell_type": "code",
   "execution_count": 28,
   "metadata": {
    "colab": {},
    "colab_type": "code",
    "id": "fitaDmRDa2EO"
   },
   "outputs": [],
   "source": [
    "def get_accuracy(test_dataset, mean_data):\n",
    "\n",
    "    test_user_embeddings, _ = get_user_model(test_dataset)\n",
    "    correct, incorrect = 0, 0\n",
    "    \n",
    "    for i,j in enumerate(test_user_embeddings):\n",
    "        user_emb_i = np.vstack(test_user_embeddings[j])\n",
    "        users_cosine_similarity = cosine_similarity(user_emb_i, mean_data)\n",
    "        pred = np.argmax(users_cosine_similarity, axis=1)\n",
    "        correct_i = (pred==i).sum()\n",
    "        correct += correct_i\n",
    "        incorrect += (user_emb_i.shape[0] - correct_i)\n",
    "    \n",
    "    acc = correct / (correct + incorrect)    \n",
    "    print(f'num of correct: {correct}')\n",
    "    print(f'num of incorrect: {incorrect}')\n",
    "    print(f'accuracy = {acc*100:.2f}%')\n",
    "    return test_user_embeddings, acc"
   ]
  },
  {
   "cell_type": "code",
   "execution_count": 29,
   "metadata": {},
   "outputs": [
    {
     "name": "stdout",
     "output_type": "stream",
     "text": [
      "total : 30\n",
      "num of correct: 14\n",
      "num of incorrect: 16\n",
      "accuracy = 46.67%\n"
     ]
    }
   ],
   "source": [
    "test_user_embeddings, acc = get_accuracy(voxceleb_test_dataset, train_mean_data)"
   ]
  },
  {
   "cell_type": "code",
   "execution_count": null,
   "metadata": {},
   "outputs": [],
   "source": []
  },
  {
   "cell_type": "code",
   "execution_count": 19,
   "metadata": {
    "colab": {
     "base_uri": "https://localhost:8080/",
     "height": 68
    },
    "colab_type": "code",
    "executionInfo": {
     "elapsed": 303372,
     "status": "ok",
     "timestamp": 1544249807142,
     "user": {
      "displayName": "Dheeraj Singh",
      "photoUrl": "",
      "userId": "06164132303714013558"
     },
     "user_tz": 300
    },
    "id": "dgoJ7E9sa26E",
    "outputId": "e13311f9-1d6c-42f4-9dca-8982cffed11d"
   },
   "outputs": [
    {
     "name": "stdout",
     "output_type": "stream",
     "text": [
      "total : 30\n"
     ]
    }
   ],
   "source": [
    "# test_user_embeddings = get_user_model(voxceleb_test_dataset)"
   ]
  },
  {
   "cell_type": "code",
   "execution_count": 20,
   "metadata": {},
   "outputs": [
    {
     "name": "stdout",
     "output_type": "stream",
     "text": [
      "total : 30\n",
      "(30, 1024)\n",
      "30\n"
     ]
    },
    {
     "data": {
      "image/png": "[encoded data removed]",
      "text/plain": [
       "<Figure size 720x432 with 1 Axes>"
      ]
     },
     "metadata": {},
     "output_type": "display_data"
    },
    {
     "data": {
      "text/plain": [
       "<matplotlib.image.AxesImage at 0x1a36a47450>"
      ]
     },
     "execution_count": 20,
     "metadata": {},
     "output_type": "execute_result"
    },
    {
     "data": {
      "image/png": "[encoded data removed]",
      "text/plain": [
       "<Figure size 432x288 with 1 Axes>"
      ]
     },
     "metadata": {},
     "output_type": "display_data"
    }
   ],
   "source": [
    "test_user_data, test_mean_data, test_user_list = get_tsne_data(voxceleb_test_dataset)\n",
    "test_users_tsne_embeddings = plot_tsne(test_user_data, test_user_list)\n",
    "plt.imshow(test_users_tsne_embeddings, aspect='auto', cmap='viridis')"
   ]
  },
  {
   "cell_type": "code",
   "execution_count": null,
   "metadata": {},
   "outputs": [],
   "source": []
  }
 ],
 "metadata": {
  "accelerator": "GPU",
  "colab": {
   "collapsed_sections": [],
   "name": "checkpoint_ML_Part.ipynb",
   "provenance": [
    {
     "file_id": "19lQDLwZKH9tH3yEKFOOm346sVXSIUwR3",
     "timestamp": 1543973773233
    }
   ],
   "version": "0.3.2"
  },
  "kernelspec": {
   "display_name": "Python 3",
   "language": "python",
   "name": "python3"
  },
  "language_info": {
   "codemirror_mode": {
    "name": "ipython",
    "version": 3
   },
   "file_extension": ".py",
   "mimetype": "text/x-python",
   "name": "python",
   "nbconvert_exporter": "python",
   "pygments_lexer": "ipython3",
   "version": "3.7.7"
  }
 },
 "nbformat": 4,
 "nbformat_minor": 2
}
